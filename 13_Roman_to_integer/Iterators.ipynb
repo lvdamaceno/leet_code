{
 "cells": [
  {
   "cell_type": "markdown",
   "id": "56628cad",
   "metadata": {},
   "source": [
    "## Python Iterators"
   ]
  },
  {
   "cell_type": "markdown",
   "id": "1795afde",
   "metadata": {},
   "source": [
    "- An iterator is an object that contains a contable number of values, that can be iterated upon.\n",
    "- Implements the iterator protocal, methods `__iter__()` and `__next__()`\n",
    "\n",
    "### Iterator x Iterable\n",
    "- List, tuples, dicts and sets are iterable objects, they have a `iter()` method:"
   ]
  },
  {
   "cell_type": "code",
   "execution_count": 3,
   "id": "76ed0c07",
   "metadata": {},
   "outputs": [
    {
     "name": "stdout",
     "output_type": "stream",
     "text": [
      "dog\n",
      "cat\n",
      "bird\n"
     ]
    }
   ],
   "source": [
    "mytp = (\"dog\", \"cat\", \"bird\")\n",
    "itertp = iter(mytp)\n",
    "\n",
    "print(next(itertp))\n",
    "print(next(itertp))\n",
    "print(next(itertp))"
   ]
  },
  {
   "cell_type": "code",
   "execution_count": 4,
   "id": "7edc63fc",
   "metadata": {},
   "outputs": [
    {
     "name": "stdout",
     "output_type": "stream",
     "text": [
      "dog\n",
      "cat\n",
      "bird\n"
     ]
    },
    {
     "ename": "StopIteration",
     "evalue": "",
     "output_type": "error",
     "traceback": [
      "\u001b[0;31m---------------------------------------------------------------------------\u001b[0m",
      "\u001b[0;31mStopIteration\u001b[0m                             Traceback (most recent call last)",
      "Cell \u001b[0;32mIn[4], line 7\u001b[0m\n\u001b[1;32m      5\u001b[0m \u001b[38;5;28mprint\u001b[39m(\u001b[38;5;28mnext\u001b[39m(itertp))\n\u001b[1;32m      6\u001b[0m \u001b[38;5;28mprint\u001b[39m(\u001b[38;5;28mnext\u001b[39m(itertp))\n\u001b[0;32m----> 7\u001b[0m \u001b[38;5;28mprint\u001b[39m(\u001b[38;5;28;43mnext\u001b[39;49m\u001b[43m(\u001b[49m\u001b[43mitertp\u001b[49m\u001b[43m)\u001b[49m)\n",
      "\u001b[0;31mStopIteration\u001b[0m: "
     ]
    }
   ],
   "source": [
    "mytp = (\"dog\", \"cat\", \"bird\")\n",
    "itertp = iter(mytp)\n",
    "\n",
    "print(next(itertp))\n",
    "print(next(itertp))\n",
    "print(next(itertp))\n",
    "print(next(itertp))"
   ]
  },
  {
   "cell_type": "code",
   "execution_count": 5,
   "id": "7bb2ffdd",
   "metadata": {},
   "outputs": [
    {
     "name": "stdout",
     "output_type": "stream",
     "text": [
      "dog\n",
      "cat\n",
      "bird\n"
     ]
    }
   ],
   "source": [
    "mytp = (\"dog\", \"cat\", \"bird\")\n",
    "itertp = iter(mytp)\n",
    "\n",
    "for i in mytp:\n",
    "    print(next(itertp))"
   ]
  },
  {
   "cell_type": "code",
   "execution_count": 6,
   "id": "f8fc697a",
   "metadata": {},
   "outputs": [
    {
     "name": "stdout",
     "output_type": "stream",
     "text": [
      "A\n",
      "B\n",
      "C\n",
      "D\n"
     ]
    }
   ],
   "source": [
    "mystr = \"ABCD\"\n",
    "iterstr = iter(mystr)\n",
    "\n",
    "for i in mystr:\n",
    "    print(next(iterstr))"
   ]
  },
  {
   "cell_type": "markdown",
   "id": "eefb7ca8",
   "metadata": {},
   "source": [
    "### Create an interator\n",
    "\n",
    "- To create an iterator you have to implement the methods `__iter()__` and `__netx__()`.\n",
    "- All classes have a funtion called `__init()__`, the `__iter__()` method acts similar, it must always return an iterator.\n",
    "- The `__next__()` method must return the next item in the sequence."
   ]
  },
  {
   "cell_type": "code",
   "execution_count": null,
   "id": "c6669c3e",
   "metadata": {},
   "outputs": [],
   "source": [
    "class MyNumbers:\n",
    "    def __iter__(self):\n",
    "      self.a = 1\n",
    "      return self\n",
    "\n",
    "    def __next__(self):\n",
    "      x = self.a\n",
    "      self.a += 1\n",
    "      return x\n",
    "\n",
    "myclass = MyNumbers()\n",
    "myiter = iter(myclass)\n",
    "\n",
    "print(next(myiter))\n",
    "print(next(myiter))\n",
    "print(next(myiter))\n",
    "print(next(myiter))\n",
    "print(next(myiter))"
   ]
  },
  {
   "cell_type": "code",
   "execution_count": null,
   "id": "ca49644b",
   "metadata": {},
   "outputs": [],
   "source": []
  }
 ],
 "metadata": {
  "kernelspec": {
   "display_name": "Python 3 (ipykernel)",
   "language": "python",
   "name": "python3"
  },
  "language_info": {
   "codemirror_mode": {
    "name": "ipython",
    "version": 3
   },
   "file_extension": ".py",
   "mimetype": "text/x-python",
   "name": "python",
   "nbconvert_exporter": "python",
   "pygments_lexer": "ipython3",
   "version": "3.10.8"
  }
 },
 "nbformat": 4,
 "nbformat_minor": 5
}
